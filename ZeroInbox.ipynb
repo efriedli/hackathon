{
  "cells": [
    {
      "cell_type": "markdown",
      "metadata": {
        "id": "view-in-github",
        "colab_type": "text"
      },
      "source": [
        "<a href=\"https://colab.research.google.com/github/efriedli/zero-inbox/blob/main/ZeroInbox.ipynb\" target=\"_parent\"><img src=\"https://colab.research.google.com/assets/colab-badge.svg\" alt=\"Open In Colab\"/></a>"
      ]
    },
    {
      "cell_type": "markdown",
      "metadata": {
        "id": "yeadDkMiISin"
      },
      "source": [
        "# Zero Inbox\n",
        "\n",
        "<table align=\"left\">\n",
        "  <td>\n",
        "    <a target=\"_blank\" href=\"https://colab.research.google.com/github/google-gemini/cookbook/blob/main/quickstarts/Prompting.ipynb\"><img src=\"https://www.tensorflow.org/images/colab_logo_32px.png\" />Run in Google Colab</a>\n",
        "  </td>\n",
        "</table>"
      ]
    },
    {
      "cell_type": "markdown",
      "metadata": {
        "id": "dpOYALec6N8Z"
      },
      "source": [
        "This notebook demonstrates Zero Inbox's server side capabilities: parsing emails to get actions, events and recaps."
      ]
    },
    {
      "cell_type": "code",
      "execution_count": null,
      "metadata": {
        "id": "0c13de5f68f6",
        "colab": {
          "base_uri": "https://localhost:8080/"
        },
        "outputId": "eb4586f6-4bf0-48b1-acd5-623ee9374ff5"
      },
      "outputs": [
        {
          "output_type": "stream",
          "name": "stdout",
          "text": [
            "\u001b[2K     \u001b[90m━━━━━━━━━━━━━━━━━━━━━━━━━━━━━━━━━━━━━━━━\u001b[0m \u001b[32m146.8/146.8 kB\u001b[0m \u001b[31m2.7 MB/s\u001b[0m eta \u001b[36m0:00:00\u001b[0m\n",
            "\u001b[2K     \u001b[90m━━━━━━━━━━━━━━━━━━━━━━━━━━━━━━━━━━━━━━━━\u001b[0m \u001b[32m664.5/664.5 kB\u001b[0m \u001b[31m7.6 MB/s\u001b[0m eta \u001b[36m0:00:00\u001b[0m\n",
            "\u001b[?25h"
          ]
        }
      ],
      "source": [
        "!pip install -U -q google.generativeai # Install the Python SDK"
      ]
    },
    {
      "cell_type": "code",
      "execution_count": null,
      "metadata": {
        "id": "TS9l5igubpHO"
      },
      "outputs": [],
      "source": [
        "import google.generativeai as genai"
      ]
    },
    {
      "cell_type": "markdown",
      "metadata": {
        "id": "w4YDYyfRYN7L"
      },
      "source": [
        "## Set up API key"
      ]
    },
    {
      "cell_type": "code",
      "execution_count": null,
      "metadata": {
        "id": "p8K1RpmMfh20"
      },
      "outputs": [],
      "source": [
        "from google.colab import userdata\n",
        "GOOGLE_API_KEY=userdata.get('GOOGLE_API_KEY')\n",
        "genai.configure(api_key=GOOGLE_API_KEY)"
      ]
    },
    {
      "cell_type": "code",
      "execution_count": null,
      "metadata": {
        "id": "28477e706226"
      },
      "outputs": [],
      "source": [
        "model = genai.GenerativeModel(\n",
        "    'gemini-pro',\n",
        "    generation_config=genai.GenerationConfig(\n",
        "        max_output_tokens=8192,\n",
        "        temperature=0.9,\n",
        "    ))"
      ]
    },
    {
      "cell_type": "code",
      "execution_count": null,
      "metadata": {
        "colab": {
          "base_uri": "https://localhost:8080/"
        },
        "id": "_a7BkH_qq_EU",
        "outputId": "ef95d91f-cc58-408c-d6b0-6e4624de2c32"
      },
      "outputs": [
        {
          "output_type": "stream",
          "name": "stdout",
          "text": [
            "Mounted at /content/drive\n"
          ]
        }
      ],
      "source": [
        "from google.colab import drive\n",
        "drive.mount('/content/drive')"
      ]
    },
    {
      "cell_type": "code",
      "execution_count": null,
      "metadata": {
        "colab": {
          "base_uri": "https://localhost:8080/"
        },
        "id": "uO707Zkcxcv3",
        "outputId": "b35150ee-cdb7-4f8d-ea10-5e91a72b65ae"
      },
      "outputs": [
        {
          "output_type": "stream",
          "name": "stdout",
          "text": [
            "/content/drive/MyDrive/zero-inbox-resources/client_secret_278932902519-dsv6fmo2239mqv7h4gnih5o97pjvcbab.apps.googleusercontent.com.json\n"
          ]
        }
      ],
      "source": [
        "!ls \"/content/drive/MyDrive/zero-inbox-resources/client_secret_278932902519-dsv6fmo2239mqv7h4gnih5o97pjvcbab.apps.googleusercontent.com.json\""
      ]
    },
    {
      "cell_type": "code",
      "execution_count": null,
      "metadata": {
        "colab": {
          "base_uri": "https://localhost:8080/"
        },
        "id": "P0WiyC7mx9d2",
        "outputId": "303f075d-4ca2-425f-ce3f-285e8b83a5ca"
      },
      "outputs": [
        {
          "output_type": "stream",
          "name": "stdout",
          "text": [
            "Please go to this URL and authorize the app: https://accounts.google.com/o/oauth2/auth?response_type=code&client_id=278932902519-dsv6fmo2239mqv7h4gnih5o97pjvcbab.apps.googleusercontent.com&redirect_uri=urn%3Aietf%3Awg%3Aoauth%3A2.0%3Aoob&scope=https%3A%2F%2Fwww.googleapis.com%2Fauth%2Fgmail.readonly&state=aqrui1xW41ddf2UXJoggcewoN5G1j7&prompt=consent&access_type=offline\n",
            "Enter the authorization code: 4/1AeaYSHD_YkA7VawYyNsGeFECP8mTtim4OJgQH1IeCMibqaE7BRXR6kI9zN8\n",
            "Message IDs:\n",
            "18f00117a0689dd0\n",
            "18f0005d314d4612\n",
            "18efffc4fede34af\n",
            "Message snippet: Google Drive for desktop was granted access to your Google Account jeff.skilling.zero@gmail.com If you did not grant access, you should check this activity and secure your account. Check activity You\n"
          ]
        },
        {
          "output_type": "execute_result",
          "data": {
            "text/plain": [
              "{'id': '18f00117a0689dd0',\n",
              " 'threadId': '18f00117a0689dd0',\n",
              " 'labelIds': ['IMPORTANT', 'CATEGORY_UPDATES', 'INBOX'],\n",
              " 'snippet': 'Google Drive for desktop was granted access to your Google Account jeff.skilling.zero@gmail.com If you did not grant access, you should check this activity and secure your account. Check activity You',\n",
              " 'payload': {'partId': '',\n",
              "  'mimeType': 'multipart/alternative',\n",
              "  'filename': '',\n",
              "  'headers': [{'name': 'Delivered-To',\n",
              "    'value': 'jeff.skilling.zero@gmail.com'},\n",
              "   {'name': 'Received',\n",
              "    'value': 'by 2002:a05:6124:1e27:b0:39a:67af:1906 with SMTP id k39csp1482597vlr;        Sun, 21 Apr 2024 02:51:37 -0700 (PDT)'},\n",
              "   {'name': 'X-Received',\n",
              "    'value': 'by 2002:a54:4516:0:b0:3c4:e370:8f70 with SMTP id l22-20020a544516000000b003c4e3708f70mr6690199oil.21.1713693096889;        Sun, 21 Apr 2024 02:51:36 -0700 (PDT)'},\n",
              "   {'name': 'ARC-Seal',\n",
              "    'value': 'i=1; a=rsa-sha256; t=1713693096; cv=none;        d=google.com; s=arc-20160816;        b=u6By9QKvfe6iW8wuxvdcHuVcHvWA+4ftFS/fGTTY+AjTAWrAUsZvIypzvXc63xAQHd         eR5QH2vg5mblvte4TpmBxTH3k3Cg0cgMHSaSgIoKoDq++d8wM2jSGH71wrXSeZ5KJTtb         S9QCJVbmijpyIK1+wQarkRlx/p0l3JOkQxJvjSG1BQ5yXO+1NfYbyYpfkRtD4xmoz2rq         Z4f7U2sYVGnvrx+1ezb3GFXDoQK2Y6fiu3mtGRMC6IOXueY+GNyTrF+by5o+QIxBD2Ir         SwM9qdmElfJE3IrP0C70H4u9c20RYjxLubJoDXwR6wim0n6Exi6/e99D0ARzgtE7q5AQ         TjcQ=='},\n",
              "   {'name': 'ARC-Message-Signature',\n",
              "    'value': 'i=1; a=rsa-sha256; c=relaxed/relaxed; d=google.com; s=arc-20160816;        h=to:from:subject:message-id:feedback-id:date:mime-version         :dkim-signature;        bh=PkWGg5SYf2JLn6SklsbxqXBK9UGJP3r/LtFdl5l0+ic=;        fh=fsO9ntXmQ/zC7nlvICsEzhYw/iICPq2pt/0X6qSd7r0=;        b=gdEulNCh+37bC/j267U34wIrueGgsEiZo7Y3Oiey61r8PAy1vYiUTg9pBHRfOomY5T         Ey/5QZIPXGkRh+HmpwSTHdYrNOyrE+8gE+Mbs3JZxjfrcpL+tWFiuR8+K4bUUn6rEqgp         MciTyRtUYUXXtuUnyJdHe3n6T840klOGZ3PGehFCJNNPlOig05jl93Z6IOLTySEXlYEw         vn8esVYnjpQ/Z0ZELstC+wLXPixu01r+Yow+Fnavt7IDN/InHNLIML3xXr9um9G3dtfK         tbUpTS+uVRGNOF45rEebmezhDT3bSxldrpgKCX81i7P0jdt5KYGgA2kr2hl488sLXBKG         nPPQ==;        dara=google.com'},\n",
              "   {'name': 'ARC-Authentication-Results',\n",
              "    'value': 'i=1; mx.google.com;       dkim=pass header.i=@accounts.google.com header.s=20230601 header.b=RdpPiMXq;       spf=pass (google.com: domain of 3qoekzggtadcgh-kxiertvvhngml.zhhzex.vhf@gaia.bounces.google.com designates 209.85.220.73 as permitted sender) smtp.mailfrom=3qOEkZggTADcgh-kXierTVVhngml.ZhhZeX.Vhf@gaia.bounces.google.com;       dmarc=pass (p=REJECT sp=REJECT dis=NONE) header.from=accounts.google.com'},\n",
              "   {'name': 'Return-Path',\n",
              "    'value': '<3qOEkZggTADcgh-kXierTVVhngml.ZhhZeX.Vhf@gaia.bounces.google.com>'},\n",
              "   {'name': 'Received',\n",
              "    'value': 'from mail-sor-f73.google.com (mail-sor-f73.google.com. [209.85.220.73])        by mx.google.com with SMTPS id gq10-20020a056808398a00b003c754e64d84sor1392018oib.18.2024.04.21.02.51.36        for <jeff.skilling.zero@gmail.com>        (Google Transport Security);        Sun, 21 Apr 2024 02:51:36 -0700 (PDT)'},\n",
              "   {'name': 'Received-SPF',\n",
              "    'value': 'pass (google.com: domain of 3qoekzggtadcgh-kxiertvvhngml.zhhzex.vhf@gaia.bounces.google.com designates 209.85.220.73 as permitted sender) client-ip=209.85.220.73;'},\n",
              "   {'name': 'Authentication-Results',\n",
              "    'value': 'mx.google.com;       dkim=pass header.i=@accounts.google.com header.s=20230601 header.b=RdpPiMXq;       spf=pass (google.com: domain of 3qoekzggtadcgh-kxiertvvhngml.zhhzex.vhf@gaia.bounces.google.com designates 209.85.220.73 as permitted sender) smtp.mailfrom=3qOEkZggTADcgh-kXierTVVhngml.ZhhZeX.Vhf@gaia.bounces.google.com;       dmarc=pass (p=REJECT sp=REJECT dis=NONE) header.from=accounts.google.com'},\n",
              "   {'name': 'DKIM-Signature',\n",
              "    'value': 'v=1; a=rsa-sha256; c=relaxed/relaxed;        d=accounts.google.com; s=20230601; t=1713693096; x=1714297896; dara=google.com;        h=to:from:subject:message-id:feedback-id:date:mime-version:from:to:cc         :subject:date:message-id:reply-to;        bh=PkWGg5SYf2JLn6SklsbxqXBK9UGJP3r/LtFdl5l0+ic=;        b=RdpPiMXqy3w3EJJ9Hbqfj7rB4XA3xVLXgIo+k3dw91Fb+1Wlz8ktSl0HafG/i2mJ0g         UlAMny/rfxf0YcuZ839POONT7J4A37Cmd/XW921GJy18ymORmwb7GFZxVaWtCqlzmA4d         ZN+bShMerXLkAHimGMOtvkD39aM2xaRJiiT2t7wCRMg3R7SLoUpIN6OZ0GGSqW15g+8B         bdnZM6c+VTdFr27s+M5ejQWub0WOay8bYBJQV8awIQvdNeXLJe996CXB5tXR+gA0Bbtn         6u43dfolrFRr01OPI3jBDf/Mv7ewIqGFGQdPKPJWmXVr9Hcib4Y6ed+P33XFQ5ysF5Bu         doEQ=='},\n",
              "   {'name': 'X-Google-DKIM-Signature',\n",
              "    'value': 'v=1; a=rsa-sha256; c=relaxed/relaxed;        d=1e100.net; s=20230601; t=1713693096; x=1714297896;        h=to:from:subject:message-id:feedback-id:date:mime-version         :x-gm-message-state:from:to:cc:subject:date:message-id:reply-to;        bh=PkWGg5SYf2JLn6SklsbxqXBK9UGJP3r/LtFdl5l0+ic=;        b=QqtH97dQ144KIJhh92h/H5oqE/+H5UXfNJ5XPYzz7JG1mqgLNZ+6EarunNyGj0UwxB         N9pr6lb9L7W26pcHORK+Y4Muoo46vY1TVid9OBMTonitl/Ew1ED6EkjPYlRpyFRwMbww         2m4NbEUrBzC33bFjhUGAMhnaTO1lWeo6Mqqw+YVISSHeLZQoh4+Fu+50NyeVGRdtS1Zk         L3Mw220Bwo3v3VUOKGm/AWkbf0c2cdXea4AtB9J/umCxhA10vzhQFWE9dfQMSYOji05k         0CAgW+NkNLMB4laXx2zqLlrVIPIbxJV8djo5aWjba/RemrF4CoKNzzHD/zle2EE1WFJb         pJcg=='},\n",
              "   {'name': 'X-Gm-Message-State',\n",
              "    'value': 'AOJu0YxSha/vXPt5VyxVNNJGXSmvdGlUm/w0hBo1fjrO0+NDsWVuiDYw uPpZUBthLSVYTL2+1I8DYwoc0jjNniXfxUCD5Whg5rHV+fZ3AQJxL5GfUCKfolGA/BtPbizyNXx +kACLtwuD53RgbGea792Fhde1EpYs5ipl8xVpAQ=='},\n",
              "   {'name': 'X-Google-Smtp-Source',\n",
              "    'value': 'AGHT+IGTDwZHNQEshazteUpmjrPxS8XZif010ua2rr5VD21nQ/vE06maAy2Jmf6yevSHoyO6E8WX12fCWi9Qo5/J2u/75g=='},\n",
              "   {'name': 'MIME-Version', 'value': '1.0'},\n",
              "   {'name': 'X-Received',\n",
              "    'value': 'by 2002:a05:6808:1450:b0:3c7:e7c:13ec with SMTP id x16-20020a056808145000b003c70e7c13ecmr8063187oiv.39.1713693096602; Sun, 21 Apr 2024 02:51:36 -0700 (PDT)'},\n",
              "   {'name': 'Date', 'value': 'Sun, 21 Apr 2024 09:51:36 GMT'},\n",
              "   {'name': 'X-Account-Notification-Type', 'value': '127'},\n",
              "   {'name': 'Feedback-ID', 'value': '127:account-notifier'},\n",
              "   {'name': 'X-Notifications', 'value': '5aa88f527aec0000'},\n",
              "   {'name': 'X-Notifications-Bounce-Info',\n",
              "    'value': 'AaJ7rEpWVUrRrISnQSmmndj4hE2I6T_-5P852bJI6lG_UaLiOeWh4FJvVVx_e9HlYgRJDYg3IfFrNgjxzrK--g1EHui-zcxpY9JWLxtwVPemvw6tSHYT9SIGxhcM6LTc32qq7cEah4ruJIcPP1zgAWv68kJm6Jqs3s7yo_JAqd4qDgGnEHVbuAWRxbFeoC3ptzqYqF_Fc3bw6uUYY_luLzM8oU3QoccNjAwNjA0MDQxNTM1NTk2OTMzMg'},\n",
              "   {'name': 'Message-ID',\n",
              "    'value': '<eUL61J7ejVcV9QxGOgNB4w@notifications.google.com>'},\n",
              "   {'name': 'Subject', 'value': 'Security alert'},\n",
              "   {'name': 'From', 'value': 'Google <no-reply@accounts.google.com>'},\n",
              "   {'name': 'To', 'value': 'jeff.skilling.zero@gmail.com'},\n",
              "   {'name': 'Content-Type',\n",
              "    'value': 'multipart/alternative; boundary=\"00000000000046ed010616984428\"'}],\n",
              "  'body': {'size': 0},\n",
              "  'parts': [{'partId': '0',\n",
              "    'mimeType': 'text/plain',\n",
              "    'filename': '',\n",
              "    'headers': [{'name': 'Content-Type',\n",
              "      'value': 'text/plain; charset=\"UTF-8\"; format=flowed; delsp=yes'},\n",
              "     {'name': 'Content-Transfer-Encoding', 'value': 'base64'}],\n",
              "    'body': {'size': 688,\n",
              "     'data': 'W2ltYWdlOiBHb29nbGVdDQpHb29nbGUgRHJpdmUgZm9yIGRlc2t0b3Agd2FzIGdyYW50ZWQgYWNjZXNzIHRvIHlvdXIgR29vZ2xlIEFjY291bnQNCg0KDQpqZWZmLnNraWxsaW5nLnplcm9AZ21haWwuY29tDQoNCklmIHlvdSBkaWQgbm90IGdyYW50IGFjY2VzcywgeW91IHNob3VsZCBjaGVjayB0aGlzIGFjdGl2aXR5IGFuZCBzZWN1cmUgeW91cg0KYWNjb3VudC4NCkNoZWNrIGFjdGl2aXR5DQo8aHR0cHM6Ly9hY2NvdW50cy5nb29nbGUuY29tL0FjY291bnRDaG9vc2VyP0VtYWlsPWplZmYuc2tpbGxpbmcuemVyb0BnbWFpbC5jb20mY29udGludWU9aHR0cHM6Ly9teWFjY291bnQuZ29vZ2xlLmNvbS9hbGVydC9udC8xNzEzNjkzMDk2MDAwP3JmbiUzRDEyNyUyNnJmbmMlM0QxJTI2ZWlkJTNELTE5Mjk5OTU1MDc5MTA3MDUzMjAlMjZldCUzRDA-DQpZb3UgY2FuIGFsc28gc2VlIHNlY3VyaXR5IGFjdGl2aXR5IGF0DQpodHRwczovL215YWNjb3VudC5nb29nbGUuY29tL25vdGlmaWNhdGlvbnMNCllvdSByZWNlaXZlZCB0aGlzIGVtYWlsIHRvIGxldCB5b3Uga25vdyBhYm91dCBpbXBvcnRhbnQgY2hhbmdlcyB0byB5b3VyDQpHb29nbGUgQWNjb3VudCBhbmQgc2VydmljZXMuDQrCqSAyMDI0IEdvb2dsZSBJcmVsYW5kIEx0ZC4sIEdvcmRvbiBIb3VzZSwgQmFycm93IFN0cmVldCwgRHVibGluIDQsIElyZWxhbmQNCg=='}},\n",
              "   {'partId': '1',\n",
              "    'mimeType': 'text/html',\n",
              "    'filename': '',\n",
              "    'headers': [{'name': 'Content-Type',\n",
              "      'value': 'text/html; charset=\"UTF-8\"'},\n",
              "     {'name': 'Content-Transfer-Encoding', 'value': 'quoted-printable'}],\n",
              "    'body': {'size': 4739,\n",
              "     'data': 'PCFET0NUWVBFIGh0bWw-PGh0bWwgbGFuZz0iZW4iPjxoZWFkPjxtZXRhIG5hbWU9ImZvcm1hdC1kZXRlY3Rpb24iIGNvbnRlbnQ9ImVtYWlsPW5vIi8-PG1ldGEgbmFtZT0iZm9ybWF0LWRldGVjdGlvbiIgY29udGVudD0iZGF0ZT1ubyIvPjxzdHlsZSBub25jZT0iSzhEVTViejdybWk4TU1RaEt2dV9CQSI-LmF3bCBhIHtjb2xvcjogI0ZGRkZGRjsgdGV4dC1kZWNvcmF0aW9uOiBub25lO30gLmFibWwgYSB7Y29sb3I6ICMwMDAwMDA7IGZvbnQtZmFtaWx5OiBSb2JvdG8tTWVkaXVtLEhlbHZldGljYSxBcmlhbCxzYW5zLXNlcmlmOyBmb250LXdlaWdodDogYm9sZDsgdGV4dC1kZWNvcmF0aW9uOiBub25lO30gLmFkZ2wgYSB7Y29sb3I6IHJnYmEoMCwgMCwgMCwgMC44Nyk7IHRleHQtZGVjb3JhdGlvbjogbm9uZTt9IC5hZmFsIGEge2NvbG9yOiAjYjBiMGIwOyB0ZXh0LWRlY29yYXRpb246IG5vbmU7fSBAbWVkaWEgc2NyZWVuIGFuZCAobWluLXdpZHRoOiA2MDBweCkgey52MnNwIHtwYWRkaW5nOiA2cHggMzBweCAwcHg7fSAudjJyc3Age3BhZGRpbmc6IDBweCAxMHB4O319IEBtZWRpYSBzY3JlZW4gYW5kIChtaW4td2lkdGg6IDYwMHB4KSB7Lm1kdjJydyB7cGFkZGluZzogNDBweCA0MHB4O319IDwvc3R5bGU-PGxpbmsgaHJlZj0iLy9mb250cy5nb29nbGVhcGlzLmNvbS9jc3M_ZmFtaWx5PUdvb2dsZStTYW5zIiByZWw9InN0eWxlc2hlZXQiIHR5cGU9InRleHQvY3NzIiBub25jZT0iSzhEVTViejdybWk4TU1RaEt2dV9CQSIvPjwvaGVhZD48Ym9keSBzdHlsZT0ibWFyZ2luOiAwOyBwYWRkaW5nOiAwOyIgYmdjb2xvcj0iI0ZGRkZGRiI-PHRhYmxlIHdpZHRoPSIxMDAlIiBoZWlnaHQ9IjEwMCUiIHN0eWxlPSJtaW4td2lkdGg6IDM0OHB4OyIgYm9yZGVyPSIwIiBjZWxsc3BhY2luZz0iMCIgY2VsbHBhZGRpbmc9IjAiIGxhbmc9ImVuIj48dHIgaGVpZ2h0PSIzMiIgc3R5bGU9ImhlaWdodDogMzJweDsiPjx0ZD48L3RkPjwvdHI-PHRyIGFsaWduPSJjZW50ZXIiPjx0ZD48ZGl2IGl0ZW1zY29wZSBpdGVtdHlwZT0iLy9zY2hlbWEub3JnL0VtYWlsTWVzc2FnZSI-PGRpdiBpdGVtcHJvcD0iYWN0aW9uIiBpdGVtc2NvcGUgaXRlbXR5cGU9Ii8vc2NoZW1hLm9yZy9WaWV3QWN0aW9uIj48bGluayBpdGVtcHJvcD0idXJsIiBocmVmPSJodHRwczovL2FjY291bnRzLmdvb2dsZS5jb20vQWNjb3VudENob29zZXI_RW1haWw9amVmZi5za2lsbGluZy56ZXJvQGdtYWlsLmNvbSZhbXA7Y29udGludWU9aHR0cHM6Ly9teWFjY291bnQuZ29vZ2xlLmNvbS9hbGVydC9udC8xNzEzNjkzMDk2MDAwP3JmbiUzRDEyNyUyNnJmbmMlM0QxJTI2ZWlkJTNELTE5Mjk5OTU1MDc5MTA3MDUzMjAlMjZldCUzRDAiLz48bWV0YSBpdGVtcHJvcD0ibmFtZSIgY29udGVudD0iUmV2aWV3IEFjdGl2aXR5Ii8-PC9kaXY-PC9kaXY-PHRhYmxlIGJvcmRlcj0iMCIgY2VsbHNwYWNpbmc9IjAiIGNlbGxwYWRkaW5nPSIwIiBzdHlsZT0icGFkZGluZy1ib3R0b206IDIwcHg7IG1heC13aWR0aDogNTE2cHg7IG1pbi13aWR0aDogMjIwcHg7Ij48dHI-PHRkIHdpZHRoPSI4IiBzdHlsZT0id2lkdGg6IDhweDsiPjwvdGQ-PHRkPjxkaXYgc3R5bGU9ImJvcmRlci1zdHlsZTogc29saWQ7IGJvcmRlci13aWR0aDogdGhpbjsgYm9yZGVyLWNvbG9yOiNkYWRjZTA7IGJvcmRlci1yYWRpdXM6IDhweDsgcGFkZGluZzogNDBweCAyMHB4OyIgYWxpZ249ImNlbnRlciIgY2xhc3M9Im1kdjJydyI-PGltZyBzcmM9Imh0dHBzOi8vd3d3LmdzdGF0aWMuY29tL2ltYWdlcy9icmFuZGluZy9nb29nbGVsb2dvLzJ4L2dvb2dsZWxvZ29fY29sb3JfNzR4MjRkcC5wbmciIHdpZHRoPSI3NCIgaGVpZ2h0PSIyNCIgYXJpYS1oaWRkZW49InRydWUiIHN0eWxlPSJtYXJnaW4tYm90dG9tOiAxNnB4OyIgYWx0PSJHb29nbGUiPjxkaXYgc3R5bGU9ImZvbnQtZmFtaWx5OiAmIzM5O0dvb2dsZSBTYW5zJiMzOTssUm9ib3RvLFJvYm90b0RyYWZ0LEhlbHZldGljYSxBcmlhbCxzYW5zLXNlcmlmO2JvcmRlci1ib3R0b206IHRoaW4gc29saWQgI2RhZGNlMDsgY29sb3I6IHJnYmEoMCwwLDAsMC44Nyk7IGxpbmUtaGVpZ2h0OiAzMnB4OyBwYWRkaW5nLWJvdHRvbTogMjRweDt0ZXh0LWFsaWduOiBjZW50ZXI7IHdvcmQtYnJlYWs6IGJyZWFrLXdvcmQ7Ij48ZGl2IHN0eWxlPSJmb250LXNpemU6IDI0cHg7Ij48YT5Hb29nbGUgRHJpdmUgZm9yIGRlc2t0b3A8L2E-IHdhcyBncmFudGVkIGFjY2VzcyB0byB5b3VyIEdvb2dsZSZuYnNwO0FjY291bnQgPC9kaXY-PHRhYmxlIGFsaWduPSJjZW50ZXIiIHN0eWxlPSJtYXJnaW4tdG9wOjhweDsiPjx0ciBzdHlsZT0ibGluZS1oZWlnaHQ6IG5vcm1hbDsiPjx0ZCBhbGlnbj0icmlnaHQiIHN0eWxlPSJwYWRkaW5nLXJpZ2h0OjhweDsiPjxpbWcgd2lkdGg9IjIwIiBoZWlnaHQ9IjIwIiBzdHlsZT0id2lkdGg6IDIwcHg7IGhlaWdodDogMjBweDsgdmVydGljYWwtYWxpZ246IHN1YjsgYm9yZGVyLXJhZGl1czogNTAlOzsiIHNyYz0iaHR0cHM6Ly9saDMuZ29vZ2xldXNlcmNvbnRlbnQuY29tL2EvQUNnOG9jS3Y4bUtYS0lzMU82M0NzSEtZTFY3dHpiUHBwRG03Q2RDdUtNZVRlczdCVXdfa1pnPXM5Ni1jIiBhbHQ9IiI-PC90ZD48dGQ-PGEgc3R5bGU9ImZvbnQtZmFtaWx5OiAmIzM5O0dvb2dsZSBTYW5zJiMzOTssUm9ib3RvLFJvYm90b0RyYWZ0LEhlbHZldGljYSxBcmlhbCxzYW5zLXNlcmlmO2NvbG9yOiByZ2JhKDAsMCwwLDAuODcpOyBmb250LXNpemU6IDE0cHg7IGxpbmUtaGVpZ2h0OiAyMHB4OyI-amVmZi5za2lsbGluZy56ZXJvQGdtYWlsLmNvbTwvYT48L3RkPjwvdHI-PC90YWJsZT4gPC9kaXY-PGRpdiBzdHlsZT0iZm9udC1mYW1pbHk6IFJvYm90by1SZWd1bGFyLEhlbHZldGljYSxBcmlhbCxzYW5zLXNlcmlmOyBmb250LXNpemU6IDE0cHg7IGNvbG9yOiByZ2JhKDAsMCwwLDAuODcpOyBsaW5lLWhlaWdodDogMjBweDtwYWRkaW5nLXRvcDogMjBweDsgdGV4dC1hbGlnbjogbGVmdDsiPjxicj5JZiB5b3UgZGlkIG5vdCBncmFudCBhY2Nlc3MsIHlvdSBzaG91bGQgY2hlY2sgdGhpcyBhY3Rpdml0eSBhbmQgc2VjdXJlIHlvdXIgYWNjb3VudC48ZGl2IHN0eWxlPSJwYWRkaW5nLXRvcDogMzJweDsgdGV4dC1hbGlnbjogY2VudGVyOyI-PGEgaHJlZj0iaHR0cHM6Ly9hY2NvdW50cy5nb29nbGUuY29tL0FjY291bnRDaG9vc2VyP0VtYWlsPWplZmYuc2tpbGxpbmcuemVyb0BnbWFpbC5jb20mYW1wO2NvbnRpbnVlPWh0dHBzOi8vbXlhY2NvdW50Lmdvb2dsZS5jb20vYWxlcnQvbnQvMTcxMzY5MzA5NjAwMD9yZm4lM0QxMjclMjZyZm5jJTNEMSUyNmVpZCUzRC0xOTI5OTk1NTA3OTEwNzA1MzIwJTI2ZXQlM0QwIiB0YXJnZXQ9Il9ibGFuayIgbGluay1pZD0ibWFpbi1idXR0b24tbGluayIgc3R5bGU9ImZvbnQtZmFtaWx5OiAmIzM5O0dvb2dsZSBTYW5zJiMzOTssUm9ib3RvLFJvYm90b0RyYWZ0LEhlbHZldGljYSxBcmlhbCxzYW5zLXNlcmlmOyBsaW5lLWhlaWdodDogMTZweDsgY29sb3I6ICNmZmZmZmY7IGZvbnQtd2VpZ2h0OiA0MDA7IHRleHQtZGVjb3JhdGlvbjogbm9uZTtmb250LXNpemU6IDE0cHg7ZGlzcGxheTppbmxpbmUtYmxvY2s7cGFkZGluZzogMTBweCAyNHB4O2JhY2tncm91bmQtY29sb3I6ICM0MTg0RjM7IGJvcmRlci1yYWRpdXM6IDVweDsgbWluLXdpZHRoOiA5MHB4OyI-Q2hlY2sgYWN0aXZpdHk8L2E-PC9kaXY-PC9kaXY-PGRpdiBzdHlsZT0icGFkZGluZy10b3A6IDIwcHg7IGZvbnQtc2l6ZTogMTJweDsgbGluZS1oZWlnaHQ6IDE2cHg7IGNvbG9yOiAjNWY2MzY4OyBsZXR0ZXItc3BhY2luZzogMC4zcHg7IHRleHQtYWxpZ246IGNlbnRlciI-WW91IGNhbiBhbHNvIHNlZSBzZWN1cml0eSBhY3Rpdml0eSBhdDxicj48YSBzdHlsZT0iY29sb3I6IHJnYmEoMCwgMCwgMCwgMC44Nyk7dGV4dC1kZWNvcmF0aW9uOiBpbmhlcml0OyI-aHR0cHM6Ly9teWFjY291bnQuZ29vZ2xlLmNvbS9ub3RpZmljYXRpb25zPC9hPjwvZGl2PjwvZGl2PjxkaXYgc3R5bGU9InRleHQtYWxpZ246IGxlZnQ7Ij48ZGl2IHN0eWxlPSJmb250LWZhbWlseTogUm9ib3RvLVJlZ3VsYXIsSGVsdmV0aWNhLEFyaWFsLHNhbnMtc2VyaWY7Y29sb3I6IHJnYmEoMCwwLDAsMC41NCk7IGZvbnQtc2l6ZTogMTFweDsgbGluZS1oZWlnaHQ6IDE4cHg7IHBhZGRpbmctdG9wOiAxMnB4OyB0ZXh0LWFsaWduOiBjZW50ZXI7Ij48ZGl2PllvdSByZWNlaXZlZCB0aGlzIGVtYWlsIHRvIGxldCB5b3Uga25vdyBhYm91dCBpbXBvcnRhbnQgY2hhbmdlcyB0byB5b3VyIEdvb2dsZSBBY2NvdW50IGFuZCBzZXJ2aWNlcy48L2Rpdj48ZGl2IHN0eWxlPSJkaXJlY3Rpb246IGx0cjsiPiZjb3B5OyAyMDI0IEdvb2dsZSBJcmVsYW5kIEx0ZC4sIDxhIGNsYXNzPSJhZmFsIiBzdHlsZT0iZm9udC1mYW1pbHk6IFJvYm90by1SZWd1bGFyLEhlbHZldGljYSxBcmlhbCxzYW5zLXNlcmlmO2NvbG9yOiByZ2JhKDAsMCwwLDAuNTQpOyBmb250LXNpemU6IDExcHg7IGxpbmUtaGVpZ2h0OiAxOHB4OyBwYWRkaW5nLXRvcDogMTJweDsgdGV4dC1hbGlnbjogY2VudGVyOyI-R29yZG9uIEhvdXNlLCBCYXJyb3cgU3RyZWV0LCBEdWJsaW4gNCwgSXJlbGFuZDwvYT48L2Rpdj48L2Rpdj48L2Rpdj48L3RkPjx0ZCB3aWR0aD0iOCIgc3R5bGU9IndpZHRoOiA4cHg7Ij48L3RkPjwvdHI-PC90YWJsZT48L3RkPjwvdHI-PHRyIGhlaWdodD0iMzIiIHN0eWxlPSJoZWlnaHQ6IDMycHg7Ij48dGQ-PC90ZD48L3RyPjwvdGFibGU-PC9ib2R5PjwvaHRtbD4='}}]},\n",
              " 'sizeEstimate': 12048,\n",
              " 'historyId': '1899',\n",
              " 'internalDate': '1713693096000'}"
            ]
          },
          "metadata": {},
          "execution_count": 11
        }
      ],
      "source": [
        "from google_auth_oauthlib.flow import Flow\n",
        "from googleapiclient.discovery import build\n",
        "from google.auth.transport.requests import Request\n",
        "from googleapiclient import errors\n",
        "import os\n",
        "import pickle\n",
        "\n",
        "# Path to your credentials file\n",
        "CREDENTIALS_FILE = '/content/drive/MyDrive/zero-inbox-resources/client_secret_278932902519-dsv6fmo2239mqv7h4gnih5o97pjvcbab.apps.googleusercontent.com.json'\n",
        "\n",
        "# Scopes required by Gmail\n",
        "SCOPES = ['https://www.googleapis.com/auth/gmail.readonly']\n",
        "\n",
        "def authenticate_gmail_api():\n",
        "    creds = None\n",
        "    # Load the saved credentials if they exist\n",
        "    if os.path.exists('token.pickle'):\n",
        "        with open('token.pickle', 'rb') as token:\n",
        "            creds = pickle.load(token)\n",
        "    # If there are no valid credentials, let the user log in\n",
        "    if not creds or not creds.valid:\n",
        "        if creds and creds.expired and creds.refresh_token:\n",
        "            creds.refresh(Request())\n",
        "        else:\n",
        "            flow = Flow.from_client_secrets_file(\n",
        "                CREDENTIALS_FILE, SCOPES, redirect_uri='urn:ietf:wg:oauth:2.0:oob')\n",
        "            auth_url, _ = flow.authorization_url(prompt='consent')\n",
        "            print('Please go to this URL and authorize the app:', auth_url)\n",
        "            code = input('Enter the authorization code: ')\n",
        "            flow.fetch_token(code=code)\n",
        "            creds = flow.credentials\n",
        "        # Save the credentials for the next run\n",
        "        with open('token.pickle', 'wb') as token:\n",
        "            pickle.dump(creds, token)\n",
        "    return creds\n",
        "\n",
        "def get_gmail_messages():\n",
        "    creds = authenticate_gmail_api()\n",
        "    service = build('gmail', 'v1', credentials=creds)\n",
        "\n",
        "    # Call the Gmail API to fetch the messages\n",
        "    results = service.users().messages().list(userId='me').execute()\n",
        "    messages = results.get('messages', [])\n",
        "\n",
        "    if not messages:\n",
        "        print('No messages found.')\n",
        "    else:\n",
        "        print('Message IDs:')\n",
        "        for message in messages:\n",
        "            print(message['id'])\n",
        "\n",
        "\n",
        "# Retrieve and print message IDs\n",
        "get_gmail_messages()\n",
        "\n",
        "\n",
        "def get_contents():\n",
        "    creds = authenticate_gmail_api()\n",
        "    service = build('gmail', 'v1', credentials=creds)\n",
        "\n",
        "    # Call the Gmail API to fetch the messages\n",
        "    try:\n",
        "        message = service.users().messages().get(userId='me', id='18f00117a0689dd0').execute()\n",
        "        print(F'Message snippet: {message[\"snippet\"]}')\n",
        "        return message\n",
        "    except errors.HttpError as error:\n",
        "        print(F'An error occurred: {error}')\n",
        "        return None\n",
        "\n",
        "# Retrieve one specific contents\n",
        "get_contents()\n"
      ]
    },
    {
      "cell_type": "code",
      "execution_count": null,
      "metadata": {
        "colab": {
          "base_uri": "https://localhost:8080/",
          "height": 35
        },
        "id": "q9lL2VjH3Le_",
        "outputId": "80423bc2-cb07-4f57-f3ad-7675f9774345"
      },
      "outputs": [
        {
          "output_type": "stream",
          "name": "stdout",
          "text": [
            "Google Drive for desktop granted access to Gmail account.\n"
          ]
        }
      ],
      "source": [
        "from base64 import urlsafe_b64decode\n",
        "from googleapiclient.discovery import build\n",
        "from google.auth.transport.requests import Request\n",
        "from email import message_from_bytes\n",
        "import os\n",
        "import pickle\n",
        "\n",
        "def authenticate_gmail_api():\n",
        "    creds = None\n",
        "    if os.path.exists('token.pickle'):\n",
        "        with open('token.pickle', 'rb') as token:\n",
        "            creds = pickle.load(token)\n",
        "    if not creds or not creds.valid:\n",
        "        if creds and creds.expired and creds.refresh_token:\n",
        "            creds.refresh(Request())\n",
        "        else:\n",
        "            creds = None  # Placeholder: Set up your actual authentication here\n",
        "        with open('token.pickle', 'wb') as token:\n",
        "            pickle.dump(creds, token)\n",
        "    return creds\n",
        "\n",
        "def get_mime_message(service, user_id, msg_id):\n",
        "    try:\n",
        "        message = service.users().messages().get(userId=user_id, id=msg_id, format='raw').execute()\n",
        "        msg_raw = urlsafe_b64decode(message['raw'].encode('ASCII'))\n",
        "        mime_msg = message_from_bytes(msg_raw)\n",
        "        email_body = \"\"\n",
        "        if mime_msg.is_multipart():\n",
        "            for part in mime_msg.walk():\n",
        "                if part.get_content_type() == 'text/plain':\n",
        "                    email_body = part.get_payload(decode=True).decode()\n",
        "                    break  # Assuming we only need the first text/plain part\n",
        "        else:\n",
        "            email_body = mime_msg.get_payload(decode=True).decode()\n",
        "        return email_body\n",
        "    except Exception as error:\n",
        "        print('An error occurred:', error)\n",
        "        return None\n",
        "\n",
        "# Usage example\n",
        "creds = authenticate_gmail_api()\n",
        "if creds:\n",
        "    service = build('gmail', 'v1', credentials=creds)\n",
        "    email_body = get_mime_message(service, 'me', '18f00117a0689dd0')\n",
        "    if email_body:\n",
        "        model = genai.GenerativeModel('gemini-pro')\n",
        "        response = model.generate_content(\"Summarize this email in a few words: \" + email_body)\n",
        "        print(response.text)"
      ]
    },
    {
      "cell_type": "code",
      "execution_count": null,
      "metadata": {
        "colab": {
          "base_uri": "https://localhost:8080/"
        },
        "id": "e0pKGvUx8pPl",
        "outputId": "d0189484-9c39-4419-bf07-080cc6b20d46"
      },
      "outputs": [
        {
          "output_type": "stream",
          "name": "stdout",
          "text": [
            "Drive already mounted at /content/drive; to attempt to forcibly remount, call drive.mount(\"/content/drive\", force_remount=True).\n",
            "{'$schema': 'http://json-schema.org/draft-07/schema#', 'type': 'object', 'properties': {'totalEmails': {'type': 'integer', 'description': 'Total number of emails in the inbox'}, 'categories': {'actionRequired': {'type': 'array', 'items': {'$ref': '#/definitions/actionableEmail'}}, 'dailySummary': {'type': 'object', 'properties': {'date': {'type': 'string', 'format': 'date', 'description': 'Date of the summary'}, 'summaryItems': {'type': 'array', 'items': {'$ref': '#/definitions/summaryItem'}}}, 'required': ['date', 'summaryItems']}, 'events': {'type': 'array', 'items': {'$ref': '#/definitions/eventDetails'}}}, 'additionalProperties': False}, 'definitions': {'emailSummary': {'type': 'object', 'properties': {'subject': {'type': 'string', 'description': 'The subject line of the email'}, 'sender': {'type': 'string', 'description': 'The email address of the sender'}, 'dateReceived': {'type': 'string', 'format': 'date-time', 'description': 'The date and time when the email was received'}, 'hasAttachments': {'type': 'boolean', 'description': 'Indicates if the email has attachments'}, 'summary': {'type': 'string', 'description': 'A brief summary of the email content'}}, 'required': ['subject', 'sender', 'dateReceived', 'summary'], 'additionalProperties': False}, 'actionableEmail': {'type': 'object', 'properties': {'subject': {'type': 'string'}, 'actionRequired': {'type': 'string', 'description': 'Description of the action required'}, 'deadline': {'type': 'string', 'format': 'date-time', 'description': 'Deadline for the action'}}, 'required': ['subject', 'actionRequired', 'deadline']}, 'summaryItem': {'type': 'object', 'properties': {'subject': {'type': 'string', 'description': 'Subject line of the email'}, 'sender': {'type': 'string', 'description': 'Sender of the email'}, 'keyDetails': {'type': 'string', 'description': 'Key details or outcomes from the email thread'}}, 'required': ['subject', 'sender', 'keyDetails']}, 'eventDetails': {'type': 'object', 'properties': {'eventType': {'type': 'string', 'description': 'Type of the event, e.g., meeting, lunch, conference'}, 'participants': {'type': 'array', 'items': {'type': 'string', 'description': 'List of participants'}}, 'location': {'type': 'string', 'description': 'Location of the event'}, 'time': {'type': 'string', 'format': 'date-time', 'description': 'Date and time of the event'}, 'details': {'type': 'string', 'description': 'Additional details about the event'}}, 'required': ['eventType', 'participants', 'location', 'time']}}, 'required': ['totalEmails', 'categories']}\n"
          ]
        }
      ],
      "source": [
        "# prompt: print the contents of my Google Drive file stored at zero-inbox-resources/emailParseStructure.json\n",
        "\n",
        "import json\n",
        "import os\n",
        "from google.colab import drive\n",
        "\n",
        "# Mount Google Drive\n",
        "drive.mount('/content/drive')\n",
        "\n",
        "# Path to the file\n",
        "file_path = '/content/drive/MyDrive/zero-inbox-resources/emailParseStructure.json'\n",
        "\n",
        "# Read the file contents\n",
        "with open(file_path, 'r') as f:\n",
        "  data = json.load(f)\n",
        "\n",
        "# Print the file contents\n",
        "print(data)\n"
      ]
    },
    {
      "cell_type": "code",
      "execution_count": null,
      "metadata": {
        "colab": {
          "base_uri": "https://localhost:8080/",
          "height": 303
        },
        "id": "KPZy5UggADrD",
        "outputId": "dfddd1f9-5346-49ff-b2de-855255e48be5"
      },
      "outputs": [
        {
          "output_type": "stream",
          "name": "stdout",
          "text": [
            "```json\n",
            "{\n",
            "  \"totalEmails\": 1,\n",
            "  \"categories\": {\n",
            "    \"actionRequired\": [\n",
            "      {\n",
            "        \"subject\": \"Google Drive for desktop was granted access to your Google Account\",\n",
            "        \"actionRequired\": \"Check activity to make sure the access is legitimate and secure your account\",\n",
            "        \"deadline\": null\n",
            "      }\n",
            "    ],\n",
            "    \"dailySummary\": [],\n",
            "    \"events\": []\n",
            "  }\n",
            "}\n",
            "```\n"
          ]
        }
      ],
      "source": [
        "from base64 import urlsafe_b64decode\n",
        "from googleapiclient.discovery import build\n",
        "from google.auth.transport.requests import Request\n",
        "from email import message_from_bytes\n",
        "import os\n",
        "import pickle\n",
        "import json\n",
        "from google.colab import drive\n",
        "\n",
        "def authenticate_gmail_api():\n",
        "    creds = None\n",
        "    if os.path.exists('token.pickle'):\n",
        "        with open('token.pickle', 'rb') as token:\n",
        "            creds = pickle.load(token)\n",
        "    if not creds or not creds.valid:\n",
        "        if creds and creds.expired and creds.refresh_token:\n",
        "            creds.refresh(Request())\n",
        "        else:\n",
        "            creds = None  # Placeholder: Set up your actual authentication here\n",
        "        with open('token.pickle', 'wb') as token:\n",
        "            pickle.dump(creds, token)\n",
        "    return creds\n",
        "\n",
        "def get_mime_message(service, user_id, msg_id):\n",
        "    try:\n",
        "        message = service.users().messages().get(userId=user_id, id=msg_id, format='raw').execute()\n",
        "        msg_raw = urlsafe_b64decode(message['raw'].encode('ASCII'))\n",
        "        mime_msg = message_from_bytes(msg_raw)\n",
        "        email_body = \"\"\n",
        "        if mime_msg.is_multipart():\n",
        "            for part in mime_msg.walk():\n",
        "                if part.get_content_type() == 'text/plain':\n",
        "                    email_body = part.get_payload(decode=True).decode()\n",
        "                    break  # Assuming we only need the first text/plain part\n",
        "        else:\n",
        "            email_body = mime_msg.get_payload(decode=True).decode()\n",
        "        return email_body\n",
        "    except Exception as error:\n",
        "        print('An error occurred:', error)\n",
        "        return None\n",
        "\n",
        "\n",
        "# Usage example\n",
        "creds = authenticate_gmail_api()\n",
        "if creds:\n",
        "    service = build('gmail', 'v1', credentials=creds)\n",
        "    email_body = get_mime_message(service, 'me', '18f00117a0689dd0')\n",
        "    if email_body:\n",
        "        # Path to the file\n",
        "        file_path = '/content/drive/MyDrive/zero-inbox-resources/emailParseStructure.json'\n",
        "\n",
        "        # Read the file contents\n",
        "        with open(file_path, 'r') as f:\n",
        "            jsonSchema = json.load(f)\n",
        "\n",
        "        # Convert JSON schema to a string format that can be included in the prompt\n",
        "        json_schema_str = json.dumps(jsonSchema, indent=2)\n",
        "\n",
        "        # Gemini prompt\n",
        "        model = genai.GenerativeModel('gemini-pro')\n",
        "        response = model.generate_content(\n",
        "            \"You are a virtual assistant who will help someone filter out the content of its mailbox. \"\n",
        "            \"We want you to reduce noise as much as possible so the user will get directly into data, knowledge, and actions. \"\n",
        "            \"Parse the content of this email: \" + email_body + \" \"\n",
        "            \"according to this JSON schema: \" + json_schema_str)  # Ensure concatenation is done with strings\n",
        "        print(response.text)"
      ]
    },
    {
      "cell_type": "code",
      "source": [
        "from base64 import urlsafe_b64decode\n",
        "from googleapiclient.discovery import build\n",
        "from google.auth.transport.requests import Request\n",
        "from email import message_from_bytes\n",
        "import os\n",
        "import pickle\n",
        "import json\n",
        "import google.ai.generativelanguage as glm\n",
        "\n",
        "\n",
        "# Path to the file\n",
        "file_path = '/content/drive/MyDrive/zero-inbox-resources/emailParseStructure.json'\n",
        "\n",
        "# Read the file contents\n",
        "with open(file_path) as file:\n",
        "  json_schema = file.read()\n",
        "\n",
        "# Path to the file\n",
        "file_path = '/content/drive/MyDrive/zero-inbox-resources/skilling_emails_light.txt'\n",
        "\n",
        "# Read the file contents\n",
        "with open(file_path) as file:\n",
        "  emails_txt = file.read()\n",
        "\n",
        "# Gemini prompt\n",
        "model = genai.GenerativeModel('gemini-pro')\n",
        "\n",
        "prompt = \"You are a virtual assistant named ZeroInbox. \"\n",
        "\"Your task is to help Jeff efficiently filter and understand the content of his mailbox. \"\n",
        "\"Follow these guidelines:\"\n",
        "\"Direct Address: Speak directly to Jeff using the second person ('you') and address him by name.\"\n",
        "\"Actionable Information: Focus on providing clear, concise, and actionable information. Use active voice and keep sentences short.\"\n",
        "\"Reduce Noise: Eliminate unnecessary details and fluff. Prioritize data, knowledge, and actions.\"\n",
        "\"Concise Output: Limit the total number of extracted elements to a maximum of 15.\"\n",
        "\"Steps:\"\n",
        "\"- read the content of the inbox\"\n",
        "\"- export following the JSON Schema\"\n",
        "\n",
        "response = model.generate_content([prompt, json_schema, emails_txt])\n",
        "\n",
        "#prompt = \"You are a virtual assistant tasked with filtering email content.\"\n",
        "#\"Reduce noise and focus on key data, knowledge, and actions.\"\n",
        "\n",
        "#response = model.generate_content([prompt, combined_email_body])\n",
        "\n",
        "print(response.text)"
      ],
      "metadata": {
        "colab": {
          "base_uri": "https://localhost:8080/",
          "height": 1000
        },
        "id": "GkPj-SOw2Req",
        "outputId": "bf09de0e-1542-480e-f6d2-1f2a57d1299b"
      },
      "execution_count": null,
      "outputs": [
        {
          "output_type": "stream",
          "name": "stdout",
          "text": [
            "{\n",
            "    \"totalEmails\": 66,\n",
            "    \"categories\": {\n",
            "        \"actionRequired\": [\n",
            "            {\n",
            "                \"subject\": \"ERV Notification:  (Violation/Notification Memo - 10/19/2001)\",\n",
            "                \"sender\": \"kenneth.thibodeaux@enron.com\",\n",
            "                \"dateReceived\": \"10/19/2001\",\n",
            "                \"summary\": \"PRELIMINARY\"\n",
            "            },\n",
            "            {\n",
            "                \"subject\": \"ERV Notification:  (Violation/Notification Memo - 09/12/2001)\",\n",
            "                \"sender\": \"kenneth.thibodeaux@enron.com\",\n",
            "                \"dateReceived\": \"09/12/2001\",\n",
            "                \"summary\": null\n",
            "            },\n",
            "            {\n",
            "                \"subject\": \"ERV Notification:  (Violation/Notification Memo - 10/24/2001)\",\n",
            "                \"sender\": \"kenneth.thibodeaux@enron.com\",\n",
            "                \"dateReceived\": \"10/24/2001\",\n",
            "                \"summary\": \"PRELIMINARY\"\n",
            "            },\n",
            "            {\n",
            "                \"subject\": \"ERV Notification:  (Violation/Notification Memo - 09/27/2001)\",\n",
            "                \"sender\": \"kenneth.thibodeaux@enron.com\",\n",
            "                \"dateReceived\": \"09/27/2001\",\n",
            "                \"summary\": \"PRELIMINARY\"\n",
            "            }\n",
            "        ],\n",
            "        \"dailySummary\": [\n",
            "            {\n",
            "                \"date\": \"4/9/2001\",\n",
            "                \"summaryItems\": [\n",
            "                    {\n",
            "                        \"subject\": \"Harvard Business School Dinner Boat Cruise October 6 - RSVP NOW!!\",\n",
            "                        \"sender\": \"dottie@kerr-solutions.com\",\n",
            "                        \"keyDetails\": \"1. _____     Credit card on file\\n2. _____     Credit Card (Visa, MC) Number: ________________ Exp Date:  ______\\n3. _____     Cash or Check enclosed\"\n",
            "                    }\n",
            "                ]\n",
            "            }\n",
            "        ],\n",
            "        \"events\": [\n",
            "            {\n",
            "                \"eventType\": \"Meeting\",\n",
            "                \"participants\": [\n",
            "                    \"Jeff.Skilling@enron.com\",\n",
            "                    \"kcompton@kpcb.com\",\n",
            "                    \"darnoff@greylock.com\",\n",
            "                    \"johnt@austinventures.com\"\n",
            "                ],\n",
            "                \"location\": null,\n",
            "                \"time\": \"Reservations have been made in Matt Khourie's name at Capital Grille, \\nlocated at 5365 Westheimer Road (in the Galleria area), at 7:00 p.m. \\nShould you need transportation to the restaurant, I will be happy to \\nmake those arrangements for you.\",\n",
            "                \"details\": \"Sherri \\nWe are working on my flights and will get back to you shortly. \\nThanks \\nDavid B Aronoff          t: 617 423 5525 x220 \\nGeneral Partner         f: 617 482 0059 \\nGreylock Partners    w: www.greylock.com \\nOne Federal Street   e: \\nBoston, MA 02110 \\n-----Original Message----- \\nFrom: Jeff.Skilling@enron.com [mailto:Jeff.Skilling@enron.com ] \\nSent: Wednesday, April 18, 2001 5:14 PM \\nTo: kcompton@kpcb.com; darnoff@greylock.com; johnt@austinventures.com \\nCc: mholthouse@holthouseinterests.com; mkhourie@trammellcrow.com; \\nginam@austinventures.com; Joannie.Williamson@enron.com \\nSubject: Dinner Monday, April 23 \\nImportance: High \\nGentlemen, \\nMessrs. Micheal Holthouse and Matt Khourie (Jeff's co-hosts of the April 24 \\nYPO event) invite you to join them at dinner on Monday evening, April 23. \\nReservations have been made in Matt Khourie's name at Capital Grille, \\nlocated at 5365 Westheimer Road (in the Galleria area), at 7:00 p.m. \\nShould you need transportation to the restaurant, I will be happy to \\nmake those arrangements for you. \\nPlease send me a note confirming your attendance at this dinner.  I look \\nforward to hearing from you. \\nRegards, \\nSherri Sera \\nAssistant to Jeff Skilling \\n713.853.5984 \\n713.646.8381 (fax) \\nsherri.sera@enron.com  \\n  \\n - Aronoff, David (E-mail).vcf\"\n",
            "            },\n",
            "            {\n",
            "                \"eventType\": \"Meeting\",\n",
            "                \"participants\": [\n",
            "                    \"David Martin\",\n",
            "                    \"jeff.skilling@enron.com\"\n",
            "                ],\n",
            "                \"location\": null,\n",
            "                \"time\": null,\n",
            "                \"details\": \"http://www.myypo.org/octreport\"\n",
            "            },\n",
            "            {\n",
            "                \"eventType\": \"event\",\n",
            "                \"participants\": [],\n",
            "                \"location\": \"Northern U.S. and Middle Eastern YPOers Share Teleconference Discussion  New\",\n",
            "                \"time\": null,\n",
            "                \"details\": \"http://www.myypo.org/southernconference\"\n",
            "            },\n",
            "            {\n",
            "                \"eventType\": \"event\",\n",
            "                \"participants\": [],\n",
            "                \"location\": null,\n",
            "                \"time\": null,\n",
            "                \"details\": \"http://www.myypo.org/stanford2002\"\n",
            "            },\n",
            "            {\n",
            "                \"eventType\": \"event\",\n",
            "                \"participants\": [],\n",
            "                \"location\": \"Cuba, Harvard, New York, the North Pole, and the Canyon Ranch Resort and Spa\",\n",
            "                \"time\": null,\n",
            "                \"details\": \"http://www.myypo.org/tanzania\"\n",
            "            },\n",
            "            {\n",
            "                \"eventType\": \"event\",\n",
            "                \"participants\": [],\n",
            "                \"location\": \"Rose Bowl\",\n",
            "                \"time\": \"January 3, 2002 at the Rose Bowl\",\n",
            "                \"details\": \"http://www.myypo.org/championship\"\n",
            "            },\n",
            "            {\n",
            "                \"eventType\": \"event\",\n",
            "                \"participants\": [],\n",
            "                \"location\": null,\n",
            "                \"time\": null,\n",
            "                \"details\": \"http://www.myypo.org/bos2002\"\n",
            "            },\n",
            "            {\n",
            "                \"eventType\": \"event\",\n",
            "                \"participants\": [],\n",
            "                \"location\": \"Los Angeles, California\",\n",
            "                \"time\": \"March 12-16, 2002\",\n",
            "                \"details\": \"http://www.myypo.org/glc2002\"\n",
            "            },\n",
            "            {\n",
            "                \"eventType\": \"Network event\",\n",
            "                \"participants\": [],\n",
            "                \"location\": \"U.S. College Football National Championship game\",\n",
            "                \"time\": null,\n",
            "                \"details\": null\n",
            "            },\n",
            "            {\n",
            "                \"eventType\": \"Not found\",\n",
            "                \"participants\": [],\n",
            "                \"location\": null,\n",
            "                \"time\": null,\n",
            "                \"details\": \"On Saturday, June 9, Tropical Storm Allison left Houston in chaos dumping more than 20 inches of rain and flooding the city in a matter of hours. As of Sunday night, 17 people had died in the storm and many others are still missing. One of those who perished in the fatal flood was one of our employees, a summer intern in ETS and student at Texas A & M University, Chad Garren. Our condolences go out to his family and co-workers.\"\n",
            "            },\n",
            "            {\n",
            "                \"eventType\": \"event\",\n",
            "                \"participants\": [],\n",
            "                \"location\": null,\n",
            "                \"time\": null,\n",
            "                \"details\": \"- orderform.pdf\"\n",
            "            },\n",
            "            {\n",
            "                \"eventType\": \"Meeting\",\n",
            "                \"participants\": [\n",
            "                    \"Kevin Cadden\",\n",
            "                    \"Nora Mead Brownell\"\n",
            "                ],\n",
            "                \"location\": null,\n",
            "                \"time\": null,\n",
            "                \"details\": \"Here's the activist thinking\\nof the other half of the\\nWood-Brownell team\"\n",
            "            },\n",
            "            {\n",
            "                \"eventType\": \"event\",\n",
            "                \"participants\": [],\n",
            "                \"location\": null,\n",
            "                \"time\": null,\n",
            "                \"details\": \"simply write to season@restructuringtoday.com and I'll\\nrush them to you.\"\n",
            "            },\n",
            "            {\n",
            "                \"eventType\": \"Not found\",\n",
            "                \"participants\": [],\n",
            "                \"location\": \"Ardmore Data Center\",\n",
            "                \"time\": null,\n",
            "                \"details\": null\n",
            "            },\n",
            "            {\n",
            "                \"eventType\": \"Not found\",\n",
            "                \"participants\": [],\n",
            "                \"location\": null,\n",
            "                \"time\": null,\n",
            "                \"details\": null\n",
            "            },\n",
            "            {\n",
            "                \"eventType\": \"Meeting\",\n"
          ]
        }
      ]
    },
    {
      "cell_type": "code",
      "source": [
        "!pip install jinja2"
      ],
      "metadata": {
        "colab": {
          "base_uri": "https://localhost:8080/"
        },
        "id": "2gqtR9fP9Z4e",
        "outputId": "231c1d63-1197-46a0-8f80-69bf0059c218"
      },
      "execution_count": null,
      "outputs": [
        {
          "output_type": "stream",
          "name": "stdout",
          "text": [
            "Requirement already satisfied: jinja2 in /usr/local/lib/python3.10/dist-packages (3.1.3)\n",
            "Requirement already satisfied: MarkupSafe>=2.0 in /usr/local/lib/python3.10/dist-packages (from jinja2) (2.1.5)\n"
          ]
        }
      ]
    },
    {
      "cell_type": "code",
      "source": [
        "# once Gemini outputs the json, merge it with our html template (server side rendering)\n",
        "# and send to the user\n",
        "import json\n",
        "from jinja2 import Environment, FileSystemLoader\n",
        "\n",
        "def load_json_data(file_path):\n",
        "    with open(file_path, 'r') as file:\n",
        "        return json.load(file)\n",
        "\n",
        "def render_html_from_json(json_data, template_name='template.html'):\n",
        "    # Load templates from the current directory\n",
        "    env = Environment(loader=FileSystemLoader('.'))\n",
        "    # Load the specified template file\n",
        "    template = env.get_template(template_name)\n",
        "    # Render HTML content using the JSON data\n",
        "    return template.render(data=json_data)\n",
        "\n",
        "def main():\n",
        "    # Load JSON data from file\n",
        "    json_data = load_json_data('content.json')\n",
        "    # Render HTML from the JSON data using a template\n",
        "    html_output = render_html_from_json(json_data)\n",
        "\n",
        "    # Write the output to an HTML file\n",
        "    with open('index.html', 'w') as file:\n",
        "        file.write(html_output)\n",
        "\n",
        "if __name__ == \"__main__\":\n",
        "    main()"
      ],
      "metadata": {
        "id": "KUDgq0_H-PlQ"
      },
      "execution_count": null,
      "outputs": []
    }
  ],
  "metadata": {
    "colab": {
      "provenance": [],
      "include_colab_link": true
    },
    "google": {
      "image_path": "/static/site-assets/images/docs/logo-python.svg",
      "keywords": [
        "examples",
        "gemini",
        "beginner",
        "googleai",
        "quickstart",
        "python",
        "text",
        "chat",
        "vision",
        "embed"
      ]
    },
    "kernelspec": {
      "display_name": "Python 3",
      "name": "python3"
    }
  },
  "nbformat": 4,
  "nbformat_minor": 0
}